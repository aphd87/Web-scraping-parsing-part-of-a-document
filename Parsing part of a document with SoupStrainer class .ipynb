{
 "cells": [
  {
   "cell_type": "code",
   "execution_count": 1,
   "id": "65a15399",
   "metadata": {},
   "outputs": [],
   "source": [
    "#Import the required lirbary \n",
    "from bs4 import BeautifulSoup"
   ]
  },
  {
   "cell_type": "code",
   "execution_count": 2,
   "id": "5c646433",
   "metadata": {},
   "outputs": [],
   "source": [
    "#Sample web document from ww.simplilearn.com website\n",
    "data_SL = \"\"\"<ul class = \"content-col_discover\">\n",
    "        <h5>Discover</h5>\n",
    "        <li><a href=\"/resources\" id=\"free_resources\"?Free resources</a><li>\n",
    "        <li><a href=\"http://community.simplilearn.com/\" id=\"community\">Simplilearn community</a></li>\n",
    "        <li><a href=\"/career-data-labs\" id=\"lab\">Career data labs</a></li>\n",
    "        <li><a href=\"/scholarships-for-veterans\" id=\"schoalrship\">Veterans schoalrship</a></li>\n",
    "        <li><a href=\"http://www.simplilearn.com/feed/\" id=\"rss\">RSS feed</a></li>\n",
    "    </ul>\"\"\""
   ]
  },
  {
   "cell_type": "code",
   "execution_count": 3,
   "id": "03f08a63",
   "metadata": {},
   "outputs": [],
   "source": [
    "#Create a soup object and pass web document as a parameter\n",
    "soup_SL = BeautifulSoup(data_SL,'html.parser')"
   ]
  },
  {
   "cell_type": "code",
   "execution_count": 4,
   "id": "1df06e73",
   "metadata": {},
   "outputs": [
    {
     "name": "stdout",
     "output_type": "stream",
     "text": [
      "\n",
      "Discover\n",
      "\n",
      "Simplilearn community\n",
      "Career data labs\n",
      "Veterans schoalrship\n",
      "RSS feed\n",
      "\n"
     ]
    }
   ],
   "source": [
    "print(soup_SL.get_text())"
   ]
  },
  {
   "cell_type": "code",
   "execution_count": 5,
   "id": "8fad7051",
   "metadata": {},
   "outputs": [],
   "source": [
    "#Import SoupStrainer class for parsing the desired part of the web document\n",
    "from bs4 import SoupStrainer"
   ]
  },
  {
   "cell_type": "code",
   "execution_count": 9,
   "id": "88eee7b2",
   "metadata": {},
   "outputs": [],
   "source": [
    "#Create object to parse only the id (link) with lab\n",
    "tags_with_LabLink = SoupStrainer(id=\"lab\")"
   ]
  },
  {
   "cell_type": "code",
   "execution_count": 10,
   "id": "8cc919c9",
   "metadata": {},
   "outputs": [
    {
     "name": "stdout",
     "output_type": "stream",
     "text": [
      "<a href=\"/career-data-labs\" id=\"lab\">\n",
      " Career data labs\n",
      "</a>\n"
     ]
    }
   ],
   "source": [
    "#Print the part of the parsed document \n",
    "print(BeautifulSoup(data_SL, 'html.parser', parse_only=tags_with_LabLink).prettify())"
   ]
  },
  {
   "cell_type": "code",
   "execution_count": null,
   "id": "2656f846",
   "metadata": {},
   "outputs": [],
   "source": []
  }
 ],
 "metadata": {
  "kernelspec": {
   "display_name": "Python 3 (ipykernel)",
   "language": "python",
   "name": "python3"
  },
  "language_info": {
   "codemirror_mode": {
    "name": "ipython",
    "version": 3
   },
   "file_extension": ".py",
   "mimetype": "text/x-python",
   "name": "python",
   "nbconvert_exporter": "python",
   "pygments_lexer": "ipython3",
   "version": "3.9.12"
  }
 },
 "nbformat": 4,
 "nbformat_minor": 5
}
